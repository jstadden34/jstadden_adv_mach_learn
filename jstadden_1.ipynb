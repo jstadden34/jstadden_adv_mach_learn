{
  "nbformat": 4,
  "nbformat_minor": 0,
  "metadata": {
    "kernelspec": {
      "display_name": "Python 3",
      "language": "python",
      "name": "python3"
    },
    "language_info": {
      "codemirror_mode": {
        "name": "ipython",
        "version": 3
      },
      "file_extension": ".py",
      "mimetype": "text/x-python",
      "name": "python",
      "nbconvert_exporter": "python",
      "pygments_lexer": "ipython3",
      "version": "3.5.2"
    },
    "colab": {
      "name": "jstadden_1",
      "provenance": [],
      "collapsed_sections": [],
      "include_colab_link": true
    }
  },
  "cells": [
    {
      "cell_type": "markdown",
      "metadata": {
        "id": "view-in-github",
        "colab_type": "text"
      },
      "source": [
        "<a href=\"https://colab.research.google.com/github/jstadden34/jstadden_adv_mach_learn/blob/master/jstadden_1.ipynb\" target=\"_parent\"><img src=\"https://colab.research.google.com/assets/colab-badge.svg\" alt=\"Open In Colab\"/></a>"
      ]
    },
    {
      "cell_type": "markdown",
      "metadata": {
        "id": "Wgw7MbgbU59t"
      },
      "source": [
        "Original Example:"
      ]
    },
    {
      "cell_type": "code",
      "metadata": {
        "id": "FZR8LtEfHa7L",
        "colab": {
          "base_uri": "https://localhost:8080/"
        },
        "outputId": "b9fcb55d-5823-44a5-d815-535299331f0a"
      },
      "source": [
        "import keras\r\n",
        "keras.__version__\r\n",
        "\r\n",
        "from keras.datasets import imdb\r\n",
        "(train_data, train_labels), (test_data, test_labels) = imdb.load_data(num_words=10000)\r\n",
        "\r\n",
        "train_data[0]\r\n",
        "\r\n",
        "train_labels[0]\r\n",
        "\r\n",
        "max([max(sequence) for sequence in train_data])\r\n",
        "\r\n",
        "\r\n",
        "\r\n",
        "import numpy as np\r\n",
        "\r\n",
        "def vectorize_sequences(sequences, dimension=10000):\r\n",
        "    # Create an all-zero matrix of shape (len(sequences), dimension)\r\n",
        "    results = np.zeros((len(sequences), dimension))\r\n",
        "    for i, sequence in enumerate(sequences):\r\n",
        "        results[i, sequence] = 1.  # set specific indices of results[i] to 1s\r\n",
        "    return results\r\n",
        "\r\n",
        "\r\n",
        "# Our vectorized training data\r\n",
        "x_train = vectorize_sequences(train_data)\r\n",
        "# Our vectorized test data\r\n",
        "x_test = vectorize_sequences(test_data)\r\n",
        "\r\n",
        "x_train[0]\r\n",
        "\r\n",
        "\r\n",
        "# Our vectorized labels\r\n",
        "y_train = np.asarray(train_labels).astype('float32')\r\n",
        "y_test = np.asarray(test_labels).astype('float32')\r\n",
        "\r\n",
        "\r\n",
        "\r\n",
        "from keras import models\r\n",
        "from keras import layers\r\n",
        "\r\n",
        "model = models.Sequential()\r\n",
        "model.add(layers.Dense(16, activation='relu', input_shape=(10000,)))\r\n",
        "model.add(layers.Dense(16, activation='relu'))\r\n",
        "model.add(layers.Dense(1, activation='sigmoid'))\r\n",
        "\r\n",
        "\r\n",
        "model.compile(optimizer='rmsprop',\r\n",
        "              loss='binary_crossentropy',\r\n",
        "              metrics=['accuracy'])\r\n",
        "\r\n",
        "\r\n",
        "from keras import optimizers\r\n",
        "\r\n",
        "model.compile(optimizer=optimizers.RMSprop(lr=0.001),\r\n",
        "              loss='binary_crossentropy',\r\n",
        "              metrics=['accuracy'])\r\n",
        "\r\n",
        "\r\n",
        "from keras import losses\r\n",
        "from keras import metrics\r\n",
        "\r\n",
        "model.compile(optimizer=optimizers.RMSprop(lr=0.001),\r\n",
        "              loss=losses.binary_crossentropy,\r\n",
        "              metrics=[metrics.binary_accuracy])\r\n",
        "\r\n",
        "\r\n",
        "x_val = x_train[:10000]\r\n",
        "partial_x_train = x_train[10000:]\r\n",
        "\r\n",
        "y_val = y_train[:10000]\r\n",
        "partial_y_train = y_train[10000:]\r\n",
        "\r\n",
        "\r\n",
        "history = model.fit(partial_x_train,\r\n",
        "                    partial_y_train,\r\n",
        "                    epochs=20,\r\n",
        "                    batch_size=512,\r\n",
        "                    validation_data=(x_val, y_val))\r\n",
        "\r\n",
        "history_dict = history.history\r\n",
        "history_dict.keys()\r\n",
        "\r\n",
        "\r\n",
        "model = models.Sequential()\r\n",
        "model.add(layers.Dense(16, activation='relu', input_shape=(10000,)))\r\n",
        "model.add(layers.Dense(16, activation='relu'))\r\n",
        "model.add(layers.Dense(1, activation='sigmoid'))\r\n",
        "\r\n",
        "model.compile(optimizer='rmsprop',\r\n",
        "              loss='binary_crossentropy',\r\n",
        "              metrics=['accuracy'])\r\n",
        "\r\n",
        "model.fit(x_train, y_train, epochs=4, batch_size=512)\r\n",
        "results = model.evaluate(x_test, y_test)\r\n",
        "\r\n",
        "\r\n",
        "results"
      ],
      "execution_count": 11,
      "outputs": [
        {
          "output_type": "stream",
          "text": [
            "<string>:6: VisibleDeprecationWarning: Creating an ndarray from ragged nested sequences (which is a list-or-tuple of lists-or-tuples-or ndarrays with different lengths or shapes) is deprecated. If you meant to do this, you must specify 'dtype=object' when creating the ndarray\n",
            "/usr/local/lib/python3.6/dist-packages/tensorflow/python/keras/datasets/imdb.py:159: VisibleDeprecationWarning: Creating an ndarray from ragged nested sequences (which is a list-or-tuple of lists-or-tuples-or ndarrays with different lengths or shapes) is deprecated. If you meant to do this, you must specify 'dtype=object' when creating the ndarray\n",
            "  x_train, y_train = np.array(xs[:idx]), np.array(labels[:idx])\n",
            "/usr/local/lib/python3.6/dist-packages/tensorflow/python/keras/datasets/imdb.py:160: VisibleDeprecationWarning: Creating an ndarray from ragged nested sequences (which is a list-or-tuple of lists-or-tuples-or ndarrays with different lengths or shapes) is deprecated. If you meant to do this, you must specify 'dtype=object' when creating the ndarray\n",
            "  x_test, y_test = np.array(xs[idx:]), np.array(labels[idx:])\n"
          ],
          "name": "stderr"
        },
        {
          "output_type": "stream",
          "text": [
            "Epoch 1/20\n",
            "30/30 [==============================] - 2s 45ms/step - loss: 0.6123 - binary_accuracy: 0.6845 - val_loss: 0.4235 - val_binary_accuracy: 0.8606\n",
            "Epoch 2/20\n",
            "30/30 [==============================] - 1s 35ms/step - loss: 0.3618 - binary_accuracy: 0.8933 - val_loss: 0.3234 - val_binary_accuracy: 0.8856\n",
            "Epoch 3/20\n",
            "30/30 [==============================] - 1s 36ms/step - loss: 0.2477 - binary_accuracy: 0.9321 - val_loss: 0.2846 - val_binary_accuracy: 0.8928\n",
            "Epoch 4/20\n",
            "30/30 [==============================] - 1s 35ms/step - loss: 0.1941 - binary_accuracy: 0.9424 - val_loss: 0.2761 - val_binary_accuracy: 0.8922\n",
            "Epoch 5/20\n",
            "30/30 [==============================] - 1s 35ms/step - loss: 0.1517 - binary_accuracy: 0.9543 - val_loss: 0.2774 - val_binary_accuracy: 0.8903\n",
            "Epoch 6/20\n",
            "30/30 [==============================] - 1s 35ms/step - loss: 0.1198 - binary_accuracy: 0.9661 - val_loss: 0.2915 - val_binary_accuracy: 0.8859\n",
            "Epoch 7/20\n",
            "30/30 [==============================] - 1s 35ms/step - loss: 0.1008 - binary_accuracy: 0.9718 - val_loss: 0.3046 - val_binary_accuracy: 0.8841\n",
            "Epoch 8/20\n",
            "30/30 [==============================] - 1s 36ms/step - loss: 0.0865 - binary_accuracy: 0.9780 - val_loss: 0.3309 - val_binary_accuracy: 0.8806\n",
            "Epoch 9/20\n",
            "30/30 [==============================] - 1s 35ms/step - loss: 0.0716 - binary_accuracy: 0.9829 - val_loss: 0.3411 - val_binary_accuracy: 0.8813\n",
            "Epoch 10/20\n",
            "30/30 [==============================] - 1s 35ms/step - loss: 0.0558 - binary_accuracy: 0.9870 - val_loss: 0.4071 - val_binary_accuracy: 0.8705\n",
            "Epoch 11/20\n",
            "30/30 [==============================] - 1s 35ms/step - loss: 0.0475 - binary_accuracy: 0.9897 - val_loss: 0.3870 - val_binary_accuracy: 0.8760\n",
            "Epoch 12/20\n",
            "30/30 [==============================] - 1s 35ms/step - loss: 0.0355 - binary_accuracy: 0.9941 - val_loss: 0.4351 - val_binary_accuracy: 0.8746\n",
            "Epoch 13/20\n",
            "30/30 [==============================] - 1s 35ms/step - loss: 0.0316 - binary_accuracy: 0.9940 - val_loss: 0.4400 - val_binary_accuracy: 0.8744\n",
            "Epoch 14/20\n",
            "30/30 [==============================] - 1s 35ms/step - loss: 0.0222 - binary_accuracy: 0.9966 - val_loss: 0.5028 - val_binary_accuracy: 0.8666\n",
            "Epoch 15/20\n",
            "30/30 [==============================] - 1s 35ms/step - loss: 0.0183 - binary_accuracy: 0.9971 - val_loss: 0.5044 - val_binary_accuracy: 0.8707\n",
            "Epoch 16/20\n",
            "30/30 [==============================] - 1s 35ms/step - loss: 0.0127 - binary_accuracy: 0.9994 - val_loss: 0.6011 - val_binary_accuracy: 0.8593\n",
            "Epoch 17/20\n",
            "30/30 [==============================] - 1s 35ms/step - loss: 0.0123 - binary_accuracy: 0.9987 - val_loss: 0.5730 - val_binary_accuracy: 0.8683\n",
            "Epoch 18/20\n",
            "30/30 [==============================] - 1s 35ms/step - loss: 0.0072 - binary_accuracy: 0.9998 - val_loss: 0.5996 - val_binary_accuracy: 0.8675\n",
            "Epoch 19/20\n",
            "30/30 [==============================] - 1s 35ms/step - loss: 0.0085 - binary_accuracy: 0.9992 - val_loss: 0.6309 - val_binary_accuracy: 0.8665\n",
            "Epoch 20/20\n",
            "30/30 [==============================] - 1s 34ms/step - loss: 0.0043 - binary_accuracy: 0.9999 - val_loss: 0.6631 - val_binary_accuracy: 0.8664\n",
            "Epoch 1/4\n",
            "49/49 [==============================] - 2s 28ms/step - loss: 0.5268 - accuracy: 0.7563\n",
            "Epoch 2/4\n",
            "49/49 [==============================] - 1s 28ms/step - loss: 0.2583 - accuracy: 0.9152\n",
            "Epoch 3/4\n",
            "49/49 [==============================] - 1s 27ms/step - loss: 0.1957 - accuracy: 0.9350\n",
            "Epoch 4/4\n",
            "49/49 [==============================] - 1s 28ms/step - loss: 0.1597 - accuracy: 0.9469\n",
            "782/782 [==============================] - 1s 2ms/step - loss: 0.2960 - accuracy: 0.8830\n"
          ],
          "name": "stdout"
        },
        {
          "output_type": "execute_result",
          "data": {
            "text/plain": [
              "[0.2960135340690613, 0.8830400109291077]"
            ]
          },
          "metadata": {
            "tags": []
          },
          "execution_count": 11
        }
      ]
    },
    {
      "cell_type": "markdown",
      "metadata": {
        "id": "8HabjUktwZxI"
      },
      "source": [
        "Comment: Accuracy = 88.3%"
      ]
    },
    {
      "cell_type": "markdown",
      "metadata": {
        "id": "3tnnOjDRUyE-"
      },
      "source": [
        "1 a) Change: 1 hidden layer"
      ]
    },
    {
      "cell_type": "code",
      "metadata": {
        "colab": {
          "base_uri": "https://localhost:8080/"
        },
        "id": "prcRJdbFK8Ow",
        "outputId": "76cd0cf6-e34b-40f5-a7d1-578e6d5f184c"
      },
      "source": [
        "\r\n",
        "(train_data, train_labels), (test_data, test_labels) = imdb.load_data(num_words=10000)\r\n",
        "\r\n",
        "train_data[0]\r\n",
        "\r\n",
        "train_labels[0]\r\n",
        "\r\n",
        "max([max(sequence) for sequence in train_data])\r\n",
        "\r\n",
        "\r\n",
        "def vectorize_sequences(sequences, dimension=10000):\r\n",
        "    # Create an all-zero matrix of shape (len(sequences), dimension)\r\n",
        "    results = np.zeros((len(sequences), dimension))\r\n",
        "    for i, sequence in enumerate(sequences):\r\n",
        "        results[i, sequence] = 1.  # set specific indices of results[i] to 1s\r\n",
        "    return results\r\n",
        "\r\n",
        "# Our vectorized training data\r\n",
        "x_train = vectorize_sequences(train_data)\r\n",
        "# Our vectorized test data\r\n",
        "x_test = vectorize_sequences(test_data)\r\n",
        "\r\n",
        "\r\n",
        "\r\n",
        "# Our vectorized labels\r\n",
        "y_train = np.asarray(train_labels).astype('float32')\r\n",
        "y_test = np.asarray(test_labels).astype('float32')\r\n",
        "\r\n",
        "\r\n",
        "\r\n",
        "model = models.Sequential()\r\n",
        "model.add(layers.Dense(16, activation='relu', input_shape=(10000,)))\r\n",
        "model.add(layers.Dense(1, activation='sigmoid'))\r\n",
        "\r\n",
        "\r\n",
        "model.compile(optimizer='rmsprop',\r\n",
        "              loss='binary_crossentropy',\r\n",
        "              metrics=['accuracy'])\r\n",
        "\r\n",
        "\r\n",
        "model.compile(optimizer=optimizers.RMSprop(lr=0.001),\r\n",
        "              loss='binary_crossentropy',\r\n",
        "              metrics=['accuracy'])\r\n",
        "\r\n",
        "\r\n",
        "model.compile(optimizer=optimizers.RMSprop(lr=0.001),\r\n",
        "              loss=losses.binary_crossentropy,\r\n",
        "              metrics=[metrics.binary_accuracy])\r\n",
        "\r\n",
        "\r\n",
        "x_val = x_train[:10000]\r\n",
        "partial_x_train = x_train[10000:]\r\n",
        "\r\n",
        "y_val = y_train[:10000]\r\n",
        "partial_y_train = y_train[10000:]\r\n",
        "\r\n",
        "\r\n",
        "history = model.fit(partial_x_train,\r\n",
        "                    partial_y_train,\r\n",
        "                    epochs=20,\r\n",
        "                    batch_size=512,\r\n",
        "                    validation_data=(x_val, y_val))\r\n",
        "\r\n",
        "history_dict = history.history\r\n",
        "history_dict.keys()\r\n",
        "\r\n",
        "\r\n",
        "model = models.Sequential()\r\n",
        "model.add(layers.Dense(16, activation='relu', input_shape=(10000,)))\r\n",
        "model.add(layers.Dense(1, activation='sigmoid'))\r\n",
        "\r\n",
        "model.compile(optimizer='rmsprop',\r\n",
        "              loss='binary_crossentropy',\r\n",
        "              metrics=['accuracy'])\r\n",
        "\r\n",
        "model.fit(x_train, y_train, epochs=4, batch_size=512)\r\n",
        "results = model.evaluate(x_test, y_test)\r\n",
        "\r\n",
        "\r\n",
        "results"
      ],
      "execution_count": 12,
      "outputs": [
        {
          "output_type": "stream",
          "text": [
            "<string>:6: VisibleDeprecationWarning: Creating an ndarray from ragged nested sequences (which is a list-or-tuple of lists-or-tuples-or ndarrays with different lengths or shapes) is deprecated. If you meant to do this, you must specify 'dtype=object' when creating the ndarray\n",
            "/usr/local/lib/python3.6/dist-packages/tensorflow/python/keras/datasets/imdb.py:159: VisibleDeprecationWarning: Creating an ndarray from ragged nested sequences (which is a list-or-tuple of lists-or-tuples-or ndarrays with different lengths or shapes) is deprecated. If you meant to do this, you must specify 'dtype=object' when creating the ndarray\n",
            "  x_train, y_train = np.array(xs[:idx]), np.array(labels[:idx])\n",
            "/usr/local/lib/python3.6/dist-packages/tensorflow/python/keras/datasets/imdb.py:160: VisibleDeprecationWarning: Creating an ndarray from ragged nested sequences (which is a list-or-tuple of lists-or-tuples-or ndarrays with different lengths or shapes) is deprecated. If you meant to do this, you must specify 'dtype=object' when creating the ndarray\n",
            "  x_test, y_test = np.array(xs[idx:]), np.array(labels[idx:])\n"
          ],
          "name": "stderr"
        },
        {
          "output_type": "stream",
          "text": [
            "Epoch 1/20\n",
            "30/30 [==============================] - 2s 44ms/step - loss: 0.5681 - binary_accuracy: 0.7296 - val_loss: 0.3904 - val_binary_accuracy: 0.8711\n",
            "Epoch 2/20\n",
            "30/30 [==============================] - 1s 35ms/step - loss: 0.3332 - binary_accuracy: 0.9027 - val_loss: 0.3203 - val_binary_accuracy: 0.8861\n",
            "Epoch 3/20\n",
            "30/30 [==============================] - 1s 35ms/step - loss: 0.2577 - binary_accuracy: 0.9232 - val_loss: 0.3056 - val_binary_accuracy: 0.8808\n",
            "Epoch 4/20\n",
            "30/30 [==============================] - 1s 35ms/step - loss: 0.2122 - binary_accuracy: 0.9348 - val_loss: 0.2814 - val_binary_accuracy: 0.8907\n",
            "Epoch 5/20\n",
            "30/30 [==============================] - 1s 35ms/step - loss: 0.1716 - binary_accuracy: 0.9501 - val_loss: 0.2753 - val_binary_accuracy: 0.8903\n",
            "Epoch 6/20\n",
            "30/30 [==============================] - 1s 35ms/step - loss: 0.1492 - binary_accuracy: 0.9562 - val_loss: 0.2732 - val_binary_accuracy: 0.8913\n",
            "Epoch 7/20\n",
            "30/30 [==============================] - 1s 34ms/step - loss: 0.1318 - binary_accuracy: 0.9646 - val_loss: 0.2793 - val_binary_accuracy: 0.8878\n",
            "Epoch 8/20\n",
            "30/30 [==============================] - 1s 35ms/step - loss: 0.1153 - binary_accuracy: 0.9701 - val_loss: 0.2854 - val_binary_accuracy: 0.8877\n",
            "Epoch 9/20\n",
            "30/30 [==============================] - 1s 35ms/step - loss: 0.0988 - binary_accuracy: 0.9748 - val_loss: 0.2995 - val_binary_accuracy: 0.8819\n",
            "Epoch 10/20\n",
            "30/30 [==============================] - 1s 35ms/step - loss: 0.0881 - binary_accuracy: 0.9794 - val_loss: 0.3064 - val_binary_accuracy: 0.8819\n",
            "Epoch 11/20\n",
            "30/30 [==============================] - 1s 36ms/step - loss: 0.0794 - binary_accuracy: 0.9806 - val_loss: 0.3196 - val_binary_accuracy: 0.8856\n",
            "Epoch 12/20\n",
            "30/30 [==============================] - 1s 35ms/step - loss: 0.0686 - binary_accuracy: 0.9857 - val_loss: 0.3367 - val_binary_accuracy: 0.8775\n",
            "Epoch 13/20\n",
            "30/30 [==============================] - 1s 36ms/step - loss: 0.0614 - binary_accuracy: 0.9869 - val_loss: 0.3448 - val_binary_accuracy: 0.8778\n",
            "Epoch 14/20\n",
            "30/30 [==============================] - 1s 35ms/step - loss: 0.0541 - binary_accuracy: 0.9884 - val_loss: 0.3584 - val_binary_accuracy: 0.8791\n",
            "Epoch 15/20\n",
            "30/30 [==============================] - 1s 35ms/step - loss: 0.0454 - binary_accuracy: 0.9918 - val_loss: 0.3863 - val_binary_accuracy: 0.8723\n",
            "Epoch 16/20\n",
            "30/30 [==============================] - 1s 35ms/step - loss: 0.0418 - binary_accuracy: 0.9933 - val_loss: 0.3926 - val_binary_accuracy: 0.8762\n",
            "Epoch 17/20\n",
            "30/30 [==============================] - 1s 35ms/step - loss: 0.0377 - binary_accuracy: 0.9936 - val_loss: 0.4154 - val_binary_accuracy: 0.8712\n",
            "Epoch 18/20\n",
            "30/30 [==============================] - 1s 35ms/step - loss: 0.0318 - binary_accuracy: 0.9955 - val_loss: 0.4282 - val_binary_accuracy: 0.8739\n",
            "Epoch 19/20\n",
            "30/30 [==============================] - 1s 35ms/step - loss: 0.0260 - binary_accuracy: 0.9971 - val_loss: 0.4524 - val_binary_accuracy: 0.8742\n",
            "Epoch 20/20\n",
            "30/30 [==============================] - 1s 34ms/step - loss: 0.0242 - binary_accuracy: 0.9973 - val_loss: 0.4702 - val_binary_accuracy: 0.8687\n",
            "Epoch 1/4\n",
            "49/49 [==============================] - 2s 27ms/step - loss: 0.5415 - accuracy: 0.7449\n",
            "Epoch 2/4\n",
            "49/49 [==============================] - 1s 28ms/step - loss: 0.2907 - accuracy: 0.9083\n",
            "Epoch 3/4\n",
            "49/49 [==============================] - 1s 27ms/step - loss: 0.2174 - accuracy: 0.9292\n",
            "Epoch 4/4\n",
            "49/49 [==============================] - 1s 27ms/step - loss: 0.1840 - accuracy: 0.9415\n",
            "782/782 [==============================] - 1s 2ms/step - loss: 0.3004 - accuracy: 0.8784\n"
          ],
          "name": "stdout"
        },
        {
          "output_type": "execute_result",
          "data": {
            "text/plain": [
              "[0.3003613352775574, 0.8784000277519226]"
            ]
          },
          "metadata": {
            "tags": []
          },
          "execution_count": 12
        }
      ]
    },
    {
      "cell_type": "markdown",
      "metadata": {
        "id": "nmkTjUD_Uuhm"
      },
      "source": [
        "Discuss: Reducing the number of hidden layers led to a slightly lower accuracy of 87.8%"
      ]
    },
    {
      "cell_type": "markdown",
      "metadata": {
        "id": "3nWPuoUBUtQH"
      },
      "source": [
        "1 b) Change: 3 hidden layers"
      ]
    },
    {
      "cell_type": "code",
      "metadata": {
        "colab": {
          "base_uri": "https://localhost:8080/"
        },
        "id": "Di9tHekaTwa8",
        "outputId": "b913cab9-22cd-437f-af2c-6e9c117b027b"
      },
      "source": [
        "model = models.Sequential()\r\n",
        "model.add(layers.Dense(16, activation='relu', input_shape=(10000,)))\r\n",
        "model.add(layers.Dense(16, activation='relu'))\r\n",
        "model.add(layers.Dense(16, activation='relu'))\r\n",
        "model.add(layers.Dense(1, activation='sigmoid'))\r\n",
        "\r\n",
        "\r\n",
        "model.compile(optimizer='rmsprop',\r\n",
        "              loss='binary_crossentropy',\r\n",
        "              metrics=['accuracy'])\r\n",
        "\r\n",
        "\r\n",
        "model.compile(optimizer=optimizers.RMSprop(lr=0.001),\r\n",
        "              loss='binary_crossentropy',\r\n",
        "              metrics=['accuracy'])\r\n",
        "\r\n",
        "\r\n",
        "model.compile(optimizer=optimizers.RMSprop(lr=0.001),\r\n",
        "              loss=losses.binary_crossentropy,\r\n",
        "              metrics=[metrics.binary_accuracy])\r\n",
        "\r\n",
        "\r\n",
        "x_val = x_train[:10000]\r\n",
        "partial_x_train = x_train[10000:]\r\n",
        "\r\n",
        "y_val = y_train[:10000]\r\n",
        "partial_y_train = y_train[10000:]\r\n",
        "\r\n",
        "\r\n",
        "history = model.fit(partial_x_train,\r\n",
        "                    partial_y_train,\r\n",
        "                    epochs=20,\r\n",
        "                    batch_size=512,\r\n",
        "                    validation_data=(x_val, y_val))\r\n",
        "\r\n",
        "history_dict = history.history\r\n",
        "history_dict.keys()\r\n",
        "\r\n",
        "\r\n",
        "model = models.Sequential()\r\n",
        "model.add(layers.Dense(16, activation='relu', input_shape=(10000,)))\r\n",
        "model.add(layers.Dense(16, activation='relu'))\r\n",
        "model.add(layers.Dense(16, activation='relu'))\r\n",
        "model.add(layers.Dense(1, activation='sigmoid'))\r\n",
        "\r\n",
        "model.compile(optimizer='rmsprop',\r\n",
        "              loss='binary_crossentropy',\r\n",
        "              metrics=['accuracy'])\r\n",
        "\r\n",
        "model.fit(x_train, y_train, epochs=4, batch_size=512)\r\n",
        "results = model.evaluate(x_test, y_test)\r\n",
        "\r\n",
        "\r\n",
        "results"
      ],
      "execution_count": 13,
      "outputs": [
        {
          "output_type": "stream",
          "text": [
            "Epoch 1/20\n",
            "30/30 [==============================] - 2s 45ms/step - loss: 0.6069 - binary_accuracy: 0.6844 - val_loss: 0.3789 - val_binary_accuracy: 0.8767\n",
            "Epoch 2/20\n",
            "30/30 [==============================] - 1s 35ms/step - loss: 0.3141 - binary_accuracy: 0.9011 - val_loss: 0.2968 - val_binary_accuracy: 0.8859\n",
            "Epoch 3/20\n",
            "30/30 [==============================] - 1s 36ms/step - loss: 0.2075 - binary_accuracy: 0.9362 - val_loss: 0.3555 - val_binary_accuracy: 0.8545\n",
            "Epoch 4/20\n",
            "30/30 [==============================] - 1s 36ms/step - loss: 0.1677 - binary_accuracy: 0.9444 - val_loss: 0.3436 - val_binary_accuracy: 0.8621\n",
            "Epoch 5/20\n",
            "30/30 [==============================] - 1s 36ms/step - loss: 0.1353 - binary_accuracy: 0.9557 - val_loss: 0.3368 - val_binary_accuracy: 0.8688\n",
            "Epoch 6/20\n",
            "30/30 [==============================] - 1s 36ms/step - loss: 0.1011 - binary_accuracy: 0.9720 - val_loss: 0.3175 - val_binary_accuracy: 0.8810\n",
            "Epoch 7/20\n",
            "30/30 [==============================] - 1s 35ms/step - loss: 0.0891 - binary_accuracy: 0.9734 - val_loss: 0.3576 - val_binary_accuracy: 0.8728\n",
            "Epoch 8/20\n",
            "30/30 [==============================] - 1s 36ms/step - loss: 0.0651 - binary_accuracy: 0.9829 - val_loss: 0.4331 - val_binary_accuracy: 0.8599\n",
            "Epoch 9/20\n",
            "30/30 [==============================] - 1s 36ms/step - loss: 0.0563 - binary_accuracy: 0.9840 - val_loss: 0.3999 - val_binary_accuracy: 0.8774\n",
            "Epoch 10/20\n",
            "30/30 [==============================] - 1s 35ms/step - loss: 0.0427 - binary_accuracy: 0.9898 - val_loss: 0.4373 - val_binary_accuracy: 0.8755\n",
            "Epoch 11/20\n",
            "30/30 [==============================] - 1s 35ms/step - loss: 0.0303 - binary_accuracy: 0.9946 - val_loss: 0.4830 - val_binary_accuracy: 0.8663\n",
            "Epoch 12/20\n",
            "30/30 [==============================] - 1s 48ms/step - loss: 0.0213 - binary_accuracy: 0.9967 - val_loss: 0.5214 - val_binary_accuracy: 0.8690\n",
            "Epoch 13/20\n",
            "30/30 [==============================] - 1s 37ms/step - loss: 0.0192 - binary_accuracy: 0.9966 - val_loss: 0.5402 - val_binary_accuracy: 0.8682\n",
            "Epoch 14/20\n",
            "30/30 [==============================] - 1s 37ms/step - loss: 0.0145 - binary_accuracy: 0.9973 - val_loss: 0.5836 - val_binary_accuracy: 0.8661\n",
            "Epoch 15/20\n",
            "30/30 [==============================] - 1s 36ms/step - loss: 0.0087 - binary_accuracy: 0.9989 - val_loss: 0.6184 - val_binary_accuracy: 0.8670\n",
            "Epoch 16/20\n",
            "30/30 [==============================] - 1s 37ms/step - loss: 0.0117 - binary_accuracy: 0.9972 - val_loss: 0.6532 - val_binary_accuracy: 0.8638\n",
            "Epoch 17/20\n",
            "30/30 [==============================] - 1s 37ms/step - loss: 0.0038 - binary_accuracy: 0.9996 - val_loss: 0.6982 - val_binary_accuracy: 0.8660\n",
            "Epoch 18/20\n",
            "30/30 [==============================] - 1s 36ms/step - loss: 0.0084 - binary_accuracy: 0.9975 - val_loss: 0.7330 - val_binary_accuracy: 0.8649\n",
            "Epoch 19/20\n",
            "30/30 [==============================] - 1s 36ms/step - loss: 0.0018 - binary_accuracy: 1.0000 - val_loss: 0.7593 - val_binary_accuracy: 0.8617\n",
            "Epoch 20/20\n",
            "30/30 [==============================] - 1s 36ms/step - loss: 0.0014 - binary_accuracy: 0.9999 - val_loss: 0.8230 - val_binary_accuracy: 0.8637\n",
            "Epoch 1/4\n",
            "49/49 [==============================] - 2s 28ms/step - loss: 0.5702 - accuracy: 0.7228\n",
            "Epoch 2/4\n",
            "49/49 [==============================] - 1s 28ms/step - loss: 0.2641 - accuracy: 0.9102\n",
            "Epoch 3/4\n",
            "49/49 [==============================] - 1s 29ms/step - loss: 0.1944 - accuracy: 0.9312\n",
            "Epoch 4/4\n",
            "49/49 [==============================] - 1s 28ms/step - loss: 0.1533 - accuracy: 0.9463\n",
            "782/782 [==============================] - 1s 2ms/step - loss: 0.3182 - accuracy: 0.8772\n"
          ],
          "name": "stdout"
        },
        {
          "output_type": "execute_result",
          "data": {
            "text/plain": [
              "[0.31819429993629456, 0.8772000074386597]"
            ]
          },
          "metadata": {
            "tags": []
          },
          "execution_count": 13
        }
      ]
    },
    {
      "cell_type": "markdown",
      "metadata": {
        "id": "I1GYq-nCUrJv"
      },
      "source": [
        "Discuss: Increasing to 3 hidden layers also resulted in a slightly lower accuracy of 87.7%"
      ]
    },
    {
      "cell_type": "markdown",
      "metadata": {
        "id": "NOYDTILsUptR"
      },
      "source": [
        "2 a) Change: 32 hidden units"
      ]
    },
    {
      "cell_type": "code",
      "metadata": {
        "colab": {
          "base_uri": "https://localhost:8080/"
        },
        "id": "-H0RBCZgUVZN",
        "outputId": "7b85e19d-c728-42d4-d65b-bd02fcbe1ead"
      },
      "source": [
        "model = models.Sequential()\r\n",
        "model.add(layers.Dense(32, activation='relu', input_shape=(10000,)))\r\n",
        "model.add(layers.Dense(32, activation='relu'))\r\n",
        "model.add(layers.Dense(1, activation='sigmoid'))\r\n",
        "\r\n",
        "\r\n",
        "model.compile(optimizer='rmsprop',\r\n",
        "              loss='binary_crossentropy',\r\n",
        "              metrics=['accuracy'])\r\n",
        "\r\n",
        "\r\n",
        "model.compile(optimizer=optimizers.RMSprop(lr=0.001),\r\n",
        "              loss='binary_crossentropy',\r\n",
        "              metrics=['accuracy'])\r\n",
        "\r\n",
        "\r\n",
        "model.compile(optimizer=optimizers.RMSprop(lr=0.001),\r\n",
        "              loss=losses.binary_crossentropy,\r\n",
        "              metrics=[metrics.binary_accuracy])\r\n",
        "\r\n",
        "\r\n",
        "x_val = x_train[:10000]\r\n",
        "partial_x_train = x_train[10000:]\r\n",
        "\r\n",
        "y_val = y_train[:10000]\r\n",
        "partial_y_train = y_train[10000:]\r\n",
        "\r\n",
        "\r\n",
        "history = model.fit(partial_x_train,\r\n",
        "                    partial_y_train,\r\n",
        "                    epochs=20,\r\n",
        "                    batch_size=512,\r\n",
        "                    validation_data=(x_val, y_val))\r\n",
        "\r\n",
        "history_dict = history.history\r\n",
        "history_dict.keys()\r\n",
        "\r\n",
        "\r\n",
        "model = models.Sequential()\r\n",
        "model.add(layers.Dense(32, activation='relu', input_shape=(10000,)))\r\n",
        "model.add(layers.Dense(32, activation='relu'))\r\n",
        "model.add(layers.Dense(1, activation='sigmoid'))\r\n",
        "\r\n",
        "model.compile(optimizer='rmsprop',\r\n",
        "              loss='binary_crossentropy',\r\n",
        "              metrics=['accuracy'])\r\n",
        "\r\n",
        "model.fit(x_train, y_train, epochs=4, batch_size=512)\r\n",
        "results = model.evaluate(x_test, y_test)\r\n",
        "\r\n",
        "\r\n",
        "results"
      ],
      "execution_count": 14,
      "outputs": [
        {
          "output_type": "stream",
          "text": [
            "Epoch 1/20\n",
            "30/30 [==============================] - 2s 56ms/step - loss: 0.5589 - binary_accuracy: 0.7151 - val_loss: 0.3251 - val_binary_accuracy: 0.8823\n",
            "Epoch 2/20\n",
            "30/30 [==============================] - 1s 42ms/step - loss: 0.2772 - binary_accuracy: 0.9063 - val_loss: 0.2781 - val_binary_accuracy: 0.8916\n",
            "Epoch 3/20\n",
            "30/30 [==============================] - 1s 42ms/step - loss: 0.1850 - binary_accuracy: 0.9392 - val_loss: 0.3127 - val_binary_accuracy: 0.8728\n",
            "Epoch 4/20\n",
            "30/30 [==============================] - 1s 42ms/step - loss: 0.1561 - binary_accuracy: 0.9460 - val_loss: 0.2835 - val_binary_accuracy: 0.8891\n",
            "Epoch 5/20\n",
            "30/30 [==============================] - 1s 42ms/step - loss: 0.1095 - binary_accuracy: 0.9649 - val_loss: 0.3027 - val_binary_accuracy: 0.8834\n",
            "Epoch 6/20\n",
            "30/30 [==============================] - 1s 42ms/step - loss: 0.0936 - binary_accuracy: 0.9691 - val_loss: 0.3328 - val_binary_accuracy: 0.8772\n",
            "Epoch 7/20\n",
            "30/30 [==============================] - 1s 42ms/step - loss: 0.0703 - binary_accuracy: 0.9794 - val_loss: 0.3607 - val_binary_accuracy: 0.8802\n",
            "Epoch 8/20\n",
            "30/30 [==============================] - 1s 42ms/step - loss: 0.0518 - binary_accuracy: 0.9870 - val_loss: 0.4093 - val_binary_accuracy: 0.8736\n",
            "Epoch 9/20\n",
            "30/30 [==============================] - 1s 42ms/step - loss: 0.0417 - binary_accuracy: 0.9902 - val_loss: 0.4209 - val_binary_accuracy: 0.8733\n",
            "Epoch 10/20\n",
            "30/30 [==============================] - 1s 42ms/step - loss: 0.0305 - binary_accuracy: 0.9925 - val_loss: 0.4572 - val_binary_accuracy: 0.8748\n",
            "Epoch 11/20\n",
            "30/30 [==============================] - 1s 42ms/step - loss: 0.0274 - binary_accuracy: 0.9942 - val_loss: 0.4743 - val_binary_accuracy: 0.8739\n",
            "Epoch 12/20\n",
            "30/30 [==============================] - 1s 42ms/step - loss: 0.0148 - binary_accuracy: 0.9981 - val_loss: 0.8194 - val_binary_accuracy: 0.8202\n",
            "Epoch 13/20\n",
            "30/30 [==============================] - 1s 42ms/step - loss: 0.0270 - binary_accuracy: 0.9900 - val_loss: 0.5757 - val_binary_accuracy: 0.8637\n",
            "Epoch 14/20\n",
            "30/30 [==============================] - 1s 42ms/step - loss: 0.0099 - binary_accuracy: 0.9985 - val_loss: 0.5823 - val_binary_accuracy: 0.8717\n",
            "Epoch 15/20\n",
            "30/30 [==============================] - 1s 43ms/step - loss: 0.0057 - binary_accuracy: 0.9998 - val_loss: 0.6250 - val_binary_accuracy: 0.8716\n",
            "Epoch 16/20\n",
            "30/30 [==============================] - 1s 42ms/step - loss: 0.0154 - binary_accuracy: 0.9961 - val_loss: 0.6501 - val_binary_accuracy: 0.8672\n",
            "Epoch 17/20\n",
            "30/30 [==============================] - 1s 42ms/step - loss: 0.0031 - binary_accuracy: 0.9999 - val_loss: 0.6862 - val_binary_accuracy: 0.8669\n",
            "Epoch 18/20\n",
            "30/30 [==============================] - 1s 42ms/step - loss: 0.0063 - binary_accuracy: 0.9987 - val_loss: 0.7258 - val_binary_accuracy: 0.8663\n",
            "Epoch 19/20\n",
            "30/30 [==============================] - 1s 42ms/step - loss: 0.0018 - binary_accuracy: 1.0000 - val_loss: 0.7560 - val_binary_accuracy: 0.8665\n",
            "Epoch 20/20\n",
            "30/30 [==============================] - 1s 42ms/step - loss: 0.0017 - binary_accuracy: 0.9998 - val_loss: 0.8316 - val_binary_accuracy: 0.8586\n",
            "Epoch 1/4\n",
            "49/49 [==============================] - 2s 33ms/step - loss: 0.5251 - accuracy: 0.7575\n",
            "Epoch 2/4\n",
            "49/49 [==============================] - 2s 34ms/step - loss: 0.2454 - accuracy: 0.9124\n",
            "Epoch 3/4\n",
            "49/49 [==============================] - 2s 33ms/step - loss: 0.1883 - accuracy: 0.9329\n",
            "Epoch 4/4\n",
            "49/49 [==============================] - 2s 33ms/step - loss: 0.1511 - accuracy: 0.9464\n",
            "782/782 [==============================] - 2s 2ms/step - loss: 0.3093 - accuracy: 0.8803\n"
          ],
          "name": "stdout"
        },
        {
          "output_type": "execute_result",
          "data": {
            "text/plain": [
              "[0.3092631995677948, 0.8803200125694275]"
            ]
          },
          "metadata": {
            "tags": []
          },
          "execution_count": 14
        }
      ]
    },
    {
      "cell_type": "markdown",
      "metadata": {
        "id": "3ltO-cVuUnlk"
      },
      "source": [
        "Discuss: Increasing to 32 hidden units led to a slightly lower accuracy of 88.0%"
      ]
    },
    {
      "cell_type": "markdown",
      "metadata": {
        "id": "yKcNHFuVUmVe"
      },
      "source": [
        "2 b) Change: 8 hidden units"
      ]
    },
    {
      "cell_type": "code",
      "metadata": {
        "colab": {
          "base_uri": "https://localhost:8080/"
        },
        "id": "8VTdk3VYUWf0",
        "outputId": "14549ab1-97d5-4620-d509-0ae3e19b39f5"
      },
      "source": [
        "model = models.Sequential()\r\n",
        "model.add(layers.Dense(8, activation='relu', input_shape=(10000,)))\r\n",
        "model.add(layers.Dense(8, activation='relu'))\r\n",
        "model.add(layers.Dense(1, activation='sigmoid'))\r\n",
        "\r\n",
        "\r\n",
        "model.compile(optimizer='rmsprop',\r\n",
        "              loss='binary_crossentropy',\r\n",
        "              metrics=['accuracy'])\r\n",
        "\r\n",
        "\r\n",
        "model.compile(optimizer=optimizers.RMSprop(lr=0.001),\r\n",
        "              loss='binary_crossentropy',\r\n",
        "              metrics=['accuracy'])\r\n",
        "\r\n",
        "\r\n",
        "model.compile(optimizer=optimizers.RMSprop(lr=0.001),\r\n",
        "              loss=losses.binary_crossentropy,\r\n",
        "              metrics=[metrics.binary_accuracy])\r\n",
        "\r\n",
        "\r\n",
        "x_val = x_train[:10000]\r\n",
        "partial_x_train = x_train[10000:]\r\n",
        "\r\n",
        "y_val = y_train[:10000]\r\n",
        "partial_y_train = y_train[10000:]\r\n",
        "\r\n",
        "\r\n",
        "history = model.fit(partial_x_train,\r\n",
        "                    partial_y_train,\r\n",
        "                    epochs=20,\r\n",
        "                    batch_size=512,\r\n",
        "                    validation_data=(x_val, y_val))\r\n",
        "\r\n",
        "history_dict = history.history\r\n",
        "history_dict.keys()\r\n",
        "\r\n",
        "\r\n",
        "model = models.Sequential()\r\n",
        "model.add(layers.Dense(8, activation='relu', input_shape=(10000,)))\r\n",
        "model.add(layers.Dense(8, activation='relu'))\r\n",
        "model.add(layers.Dense(1, activation='sigmoid'))\r\n",
        "\r\n",
        "model.compile(optimizer='rmsprop',\r\n",
        "              loss='binary_crossentropy',\r\n",
        "              metrics=['accuracy'])\r\n",
        "\r\n",
        "model.fit(x_train, y_train, epochs=4, batch_size=512)\r\n",
        "results = model.evaluate(x_test, y_test)\r\n",
        "\r\n",
        "\r\n",
        "results"
      ],
      "execution_count": 15,
      "outputs": [
        {
          "output_type": "stream",
          "text": [
            "Epoch 1/20\n",
            "30/30 [==============================] - 2s 57ms/step - loss: 0.6037 - binary_accuracy: 0.7178 - val_loss: 0.4274 - val_binary_accuracy: 0.8585\n",
            "Epoch 2/20\n",
            "30/30 [==============================] - 1s 35ms/step - loss: 0.3685 - binary_accuracy: 0.8898 - val_loss: 0.3341 - val_binary_accuracy: 0.8775\n",
            "Epoch 3/20\n",
            "30/30 [==============================] - 1s 35ms/step - loss: 0.2613 - binary_accuracy: 0.9211 - val_loss: 0.2911 - val_binary_accuracy: 0.8905\n",
            "Epoch 4/20\n",
            "30/30 [==============================] - 1s 35ms/step - loss: 0.2069 - binary_accuracy: 0.9370 - val_loss: 0.2770 - val_binary_accuracy: 0.8911\n",
            "Epoch 5/20\n",
            "30/30 [==============================] - 1s 36ms/step - loss: 0.1744 - binary_accuracy: 0.9457 - val_loss: 0.2725 - val_binary_accuracy: 0.8911\n",
            "Epoch 6/20\n",
            "30/30 [==============================] - 1s 35ms/step - loss: 0.1415 - binary_accuracy: 0.9588 - val_loss: 0.2865 - val_binary_accuracy: 0.8857\n",
            "Epoch 7/20\n",
            "30/30 [==============================] - 1s 36ms/step - loss: 0.1186 - binary_accuracy: 0.9649 - val_loss: 0.2863 - val_binary_accuracy: 0.8864\n",
            "Epoch 8/20\n",
            "30/30 [==============================] - 1s 36ms/step - loss: 0.1020 - binary_accuracy: 0.9708 - val_loss: 0.3081 - val_binary_accuracy: 0.8838\n",
            "Epoch 9/20\n",
            "30/30 [==============================] - 1s 36ms/step - loss: 0.0870 - binary_accuracy: 0.9770 - val_loss: 0.3189 - val_binary_accuracy: 0.8809\n",
            "Epoch 10/20\n",
            "30/30 [==============================] - 1s 37ms/step - loss: 0.0745 - binary_accuracy: 0.9811 - val_loss: 0.3402 - val_binary_accuracy: 0.8814\n",
            "Epoch 11/20\n",
            "30/30 [==============================] - 1s 36ms/step - loss: 0.0608 - binary_accuracy: 0.9842 - val_loss: 0.3609 - val_binary_accuracy: 0.8806\n",
            "Epoch 12/20\n",
            "30/30 [==============================] - 1s 36ms/step - loss: 0.0518 - binary_accuracy: 0.9887 - val_loss: 0.3835 - val_binary_accuracy: 0.8787\n",
            "Epoch 13/20\n",
            "30/30 [==============================] - 1s 36ms/step - loss: 0.0420 - binary_accuracy: 0.9918 - val_loss: 0.3989 - val_binary_accuracy: 0.8778\n",
            "Epoch 14/20\n",
            "30/30 [==============================] - 1s 37ms/step - loss: 0.0356 - binary_accuracy: 0.9931 - val_loss: 0.4573 - val_binary_accuracy: 0.8660\n",
            "Epoch 15/20\n",
            "30/30 [==============================] - 1s 36ms/step - loss: 0.0299 - binary_accuracy: 0.9951 - val_loss: 0.4498 - val_binary_accuracy: 0.8741\n",
            "Epoch 16/20\n",
            "30/30 [==============================] - 1s 36ms/step - loss: 0.0252 - binary_accuracy: 0.9964 - val_loss: 0.4810 - val_binary_accuracy: 0.8734\n",
            "Epoch 17/20\n",
            "30/30 [==============================] - 1s 35ms/step - loss: 0.0214 - binary_accuracy: 0.9967 - val_loss: 0.5232 - val_binary_accuracy: 0.8649\n",
            "Epoch 18/20\n",
            "30/30 [==============================] - 1s 35ms/step - loss: 0.0167 - binary_accuracy: 0.9977 - val_loss: 0.5425 - val_binary_accuracy: 0.8711\n",
            "Epoch 19/20\n",
            "30/30 [==============================] - 1s 35ms/step - loss: 0.0134 - binary_accuracy: 0.9986 - val_loss: 0.5726 - val_binary_accuracy: 0.8682\n",
            "Epoch 20/20\n",
            "30/30 [==============================] - 1s 35ms/step - loss: 0.0100 - binary_accuracy: 0.9997 - val_loss: 0.6538 - val_binary_accuracy: 0.8618\n",
            "Epoch 1/4\n",
            "49/49 [==============================] - 2s 27ms/step - loss: 0.5898 - accuracy: 0.7296\n",
            "Epoch 2/4\n",
            "49/49 [==============================] - 1s 28ms/step - loss: 0.3167 - accuracy: 0.9031\n",
            "Epoch 3/4\n",
            "49/49 [==============================] - 1s 27ms/step - loss: 0.2277 - accuracy: 0.9269\n",
            "Epoch 4/4\n",
            "49/49 [==============================] - 1s 27ms/step - loss: 0.1870 - accuracy: 0.9359\n",
            "782/782 [==============================] - 1s 2ms/step - loss: 0.2818 - accuracy: 0.8884\n"
          ],
          "name": "stdout"
        },
        {
          "output_type": "execute_result",
          "data": {
            "text/plain": [
              "[0.2818399667739868, 0.8884000182151794]"
            ]
          },
          "metadata": {
            "tags": []
          },
          "execution_count": 15
        }
      ]
    },
    {
      "cell_type": "markdown",
      "metadata": {
        "id": "mC9oZzhqUj-I"
      },
      "source": [
        "Discuss: Reducing to 8 hidden units gave a slightly higher accuracy of 88.8%"
      ]
    },
    {
      "cell_type": "markdown",
      "metadata": {
        "id": "XoDPYhXdUZ0T"
      },
      "source": [
        "3 Change: mse loss function"
      ]
    },
    {
      "cell_type": "code",
      "metadata": {
        "colab": {
          "base_uri": "https://localhost:8080/"
        },
        "id": "R8FV8wOSUX0U",
        "outputId": "3643fd6b-f43a-4a65-d623-281244c99685"
      },
      "source": [
        "model = models.Sequential()\r\n",
        "model.add(layers.Dense(16, activation='relu', input_shape=(10000,)))\r\n",
        "model.add(layers.Dense(16, activation='relu'))\r\n",
        "model.add(layers.Dense(1, activation='sigmoid'))\r\n",
        "\r\n",
        "\r\n",
        "model.compile(optimizer='rmsprop',\r\n",
        "              loss='mse',\r\n",
        "              metrics=['accuracy'])\r\n",
        "\r\n",
        "\r\n",
        "model.compile(optimizer=optimizers.RMSprop(lr=0.001),\r\n",
        "              loss='mse',\r\n",
        "              metrics=['accuracy'])\r\n",
        "\r\n",
        "\r\n",
        "model.compile(optimizer=optimizers.RMSprop(lr=0.001),\r\n",
        "              loss=losses.mse,\r\n",
        "              metrics=[metrics.mse])\r\n",
        "\r\n",
        "\r\n",
        "x_val = x_train[:10000]\r\n",
        "partial_x_train = x_train[10000:]\r\n",
        "\r\n",
        "y_val = y_train[:10000]\r\n",
        "partial_y_train = y_train[10000:]\r\n",
        "\r\n",
        "\r\n",
        "history = model.fit(partial_x_train,\r\n",
        "                    partial_y_train,\r\n",
        "                    epochs=20,\r\n",
        "                    batch_size=512,\r\n",
        "                    validation_data=(x_val, y_val))\r\n",
        "\r\n",
        "history_dict = history.history\r\n",
        "history_dict.keys()\r\n",
        "\r\n",
        "\r\n",
        "model = models.Sequential()\r\n",
        "model.add(layers.Dense(16, activation='relu', input_shape=(10000,)))\r\n",
        "model.add(layers.Dense(16, activation='relu'))\r\n",
        "model.add(layers.Dense(1, activation='sigmoid'))\r\n",
        "\r\n",
        "model.compile(optimizer='rmsprop',\r\n",
        "              loss='mse',\r\n",
        "              metrics=['accuracy'])\r\n",
        "\r\n",
        "model.fit(x_train, y_train, epochs=4, batch_size=512)\r\n",
        "results = model.evaluate(x_test, y_test)\r\n",
        "\r\n",
        "\r\n",
        "results"
      ],
      "execution_count": 16,
      "outputs": [
        {
          "output_type": "stream",
          "text": [
            "Epoch 1/20\n",
            "30/30 [==============================] - 2s 45ms/step - loss: 0.2006 - mean_squared_error: 0.2006 - val_loss: 0.1217 - val_mean_squared_error: 0.1217\n",
            "Epoch 2/20\n",
            "30/30 [==============================] - 1s 35ms/step - loss: 0.0931 - mean_squared_error: 0.0931 - val_loss: 0.0969 - val_mean_squared_error: 0.0969\n",
            "Epoch 3/20\n",
            "30/30 [==============================] - 1s 35ms/step - loss: 0.0655 - mean_squared_error: 0.0655 - val_loss: 0.0840 - val_mean_squared_error: 0.0840\n",
            "Epoch 4/20\n",
            "30/30 [==============================] - 1s 35ms/step - loss: 0.0471 - mean_squared_error: 0.0471 - val_loss: 0.0859 - val_mean_squared_error: 0.0859\n",
            "Epoch 5/20\n",
            "30/30 [==============================] - 1s 35ms/step - loss: 0.0357 - mean_squared_error: 0.0357 - val_loss: 0.0827 - val_mean_squared_error: 0.0827\n",
            "Epoch 6/20\n",
            "30/30 [==============================] - 1s 35ms/step - loss: 0.0283 - mean_squared_error: 0.0283 - val_loss: 0.0896 - val_mean_squared_error: 0.0896\n",
            "Epoch 7/20\n",
            "30/30 [==============================] - 1s 36ms/step - loss: 0.0238 - mean_squared_error: 0.0238 - val_loss: 0.0861 - val_mean_squared_error: 0.0861\n",
            "Epoch 8/20\n",
            "30/30 [==============================] - 1s 36ms/step - loss: 0.0180 - mean_squared_error: 0.0180 - val_loss: 0.0882 - val_mean_squared_error: 0.0882\n",
            "Epoch 9/20\n",
            "30/30 [==============================] - 1s 36ms/step - loss: 0.0153 - mean_squared_error: 0.0153 - val_loss: 0.0916 - val_mean_squared_error: 0.0916\n",
            "Epoch 10/20\n",
            "30/30 [==============================] - 1s 35ms/step - loss: 0.0113 - mean_squared_error: 0.0113 - val_loss: 0.0925 - val_mean_squared_error: 0.0925\n",
            "Epoch 11/20\n",
            "30/30 [==============================] - 1s 35ms/step - loss: 0.0085 - mean_squared_error: 0.0085 - val_loss: 0.0947 - val_mean_squared_error: 0.0947\n",
            "Epoch 12/20\n",
            "30/30 [==============================] - 1s 36ms/step - loss: 0.0080 - mean_squared_error: 0.0080 - val_loss: 0.0969 - val_mean_squared_error: 0.0969\n",
            "Epoch 13/20\n",
            "30/30 [==============================] - 1s 35ms/step - loss: 0.0066 - mean_squared_error: 0.0066 - val_loss: 0.0984 - val_mean_squared_error: 0.0984\n",
            "Epoch 14/20\n",
            "30/30 [==============================] - 1s 35ms/step - loss: 0.0058 - mean_squared_error: 0.0058 - val_loss: 0.1091 - val_mean_squared_error: 0.1091\n",
            "Epoch 15/20\n",
            "30/30 [==============================] - 1s 35ms/step - loss: 0.0069 - mean_squared_error: 0.0069 - val_loss: 0.1119 - val_mean_squared_error: 0.1119\n",
            "Epoch 16/20\n",
            "30/30 [==============================] - 1s 36ms/step - loss: 0.0083 - mean_squared_error: 0.0083 - val_loss: 0.1044 - val_mean_squared_error: 0.1044\n",
            "Epoch 17/20\n",
            "30/30 [==============================] - 1s 36ms/step - loss: 0.0041 - mean_squared_error: 0.0041 - val_loss: 0.1056 - val_mean_squared_error: 0.1056\n",
            "Epoch 18/20\n",
            "30/30 [==============================] - 1s 35ms/step - loss: 0.0032 - mean_squared_error: 0.0032 - val_loss: 0.1122 - val_mean_squared_error: 0.1122\n",
            "Epoch 19/20\n",
            "30/30 [==============================] - 1s 35ms/step - loss: 0.0031 - mean_squared_error: 0.0031 - val_loss: 0.1085 - val_mean_squared_error: 0.1085\n",
            "Epoch 20/20\n",
            "30/30 [==============================] - 1s 35ms/step - loss: 0.0021 - mean_squared_error: 0.0021 - val_loss: 0.1100 - val_mean_squared_error: 0.1100\n",
            "Epoch 1/4\n",
            "49/49 [==============================] - 2s 28ms/step - loss: 0.1800 - accuracy: 0.7297\n",
            "Epoch 2/4\n",
            "49/49 [==============================] - 1s 28ms/step - loss: 0.0772 - accuracy: 0.9105\n",
            "Epoch 3/4\n",
            "49/49 [==============================] - 1s 28ms/step - loss: 0.0529 - accuracy: 0.9397\n",
            "Epoch 4/4\n",
            "49/49 [==============================] - 1s 29ms/step - loss: 0.0454 - accuracy: 0.9477\n",
            "782/782 [==============================] - 1s 1ms/step - loss: 0.0865 - accuracy: 0.8824\n"
          ],
          "name": "stdout"
        },
        {
          "output_type": "execute_result",
          "data": {
            "text/plain": [
              "[0.08649957925081253, 0.8823599815368652]"
            ]
          },
          "metadata": {
            "tags": []
          },
          "execution_count": 16
        }
      ]
    },
    {
      "cell_type": "markdown",
      "metadata": {
        "id": "7tbgmetTUbS0"
      },
      "source": [
        "Discuss: Using the mse loss function gave a nearly equivalent accuracy of 88.2%"
      ]
    },
    {
      "cell_type": "markdown",
      "metadata": {
        "id": "FW5lsjttVrlX"
      },
      "source": [
        "4 Change: tanh activation"
      ]
    },
    {
      "cell_type": "code",
      "metadata": {
        "colab": {
          "base_uri": "https://localhost:8080/"
        },
        "id": "4kpqL106VzN7",
        "outputId": "9655fceb-e2c6-4483-f3ee-ea471a886aae"
      },
      "source": [
        "model = models.Sequential()\r\n",
        "model.add(layers.Dense(16, activation='tanh', input_shape=(10000,)))\r\n",
        "model.add(layers.Dense(16, activation='tanh'))\r\n",
        "model.add(layers.Dense(1, activation='sigmoid'))\r\n",
        "\r\n",
        "\r\n",
        "model.compile(optimizer='rmsprop',\r\n",
        "              loss='binary_crossentropy',\r\n",
        "              metrics=['accuracy'])\r\n",
        "\r\n",
        "\r\n",
        "model.compile(optimizer=optimizers.RMSprop(lr=0.001),\r\n",
        "              loss='binary_crossentropy',\r\n",
        "              metrics=['accuracy'])\r\n",
        "\r\n",
        "\r\n",
        "model.compile(optimizer=optimizers.RMSprop(lr=0.001),\r\n",
        "              loss=losses.binary_crossentropy,\r\n",
        "              metrics=[metrics.binary_accuracy])\r\n",
        "\r\n",
        "\r\n",
        "x_val = x_train[:10000]\r\n",
        "partial_x_train = x_train[10000:]\r\n",
        "\r\n",
        "y_val = y_train[:10000]\r\n",
        "partial_y_train = y_train[10000:]\r\n",
        "\r\n",
        "\r\n",
        "history = model.fit(partial_x_train,\r\n",
        "                    partial_y_train,\r\n",
        "                    epochs=20,\r\n",
        "                    batch_size=512,\r\n",
        "                    validation_data=(x_val, y_val))\r\n",
        "\r\n",
        "history_dict = history.history\r\n",
        "history_dict.keys()\r\n",
        "\r\n",
        "\r\n",
        "model = models.Sequential()\r\n",
        "model.add(layers.Dense(16, activation='tanh', input_shape=(10000,)))\r\n",
        "model.add(layers.Dense(16, activation='tanh'))\r\n",
        "model.add(layers.Dense(1, activation='sigmoid'))\r\n",
        "\r\n",
        "model.compile(optimizer='rmsprop',\r\n",
        "              loss='binary_crossentropy',\r\n",
        "              metrics=['accuracy'])\r\n",
        "\r\n",
        "model.fit(x_train, y_train, epochs=4, batch_size=512)\r\n",
        "results = model.evaluate(x_test, y_test)\r\n",
        "\r\n",
        "\r\n",
        "results"
      ],
      "execution_count": 17,
      "outputs": [
        {
          "output_type": "stream",
          "text": [
            "Epoch 1/20\n",
            "30/30 [==============================] - 2s 45ms/step - loss: 0.5738 - binary_accuracy: 0.7165 - val_loss: 0.3593 - val_binary_accuracy: 0.8759\n",
            "Epoch 2/20\n",
            "30/30 [==============================] - 1s 35ms/step - loss: 0.2927 - binary_accuracy: 0.9096 - val_loss: 0.2872 - val_binary_accuracy: 0.8912\n",
            "Epoch 3/20\n",
            "30/30 [==============================] - 1s 35ms/step - loss: 0.2005 - binary_accuracy: 0.9362 - val_loss: 0.2902 - val_binary_accuracy: 0.8828\n",
            "Epoch 4/20\n",
            "30/30 [==============================] - 1s 35ms/step - loss: 0.1459 - binary_accuracy: 0.9530 - val_loss: 0.2910 - val_binary_accuracy: 0.8827\n",
            "Epoch 5/20\n",
            "30/30 [==============================] - 1s 35ms/step - loss: 0.1080 - binary_accuracy: 0.9678 - val_loss: 0.3040 - val_binary_accuracy: 0.8837\n",
            "Epoch 6/20\n",
            "30/30 [==============================] - 1s 35ms/step - loss: 0.0800 - binary_accuracy: 0.9766 - val_loss: 0.3727 - val_binary_accuracy: 0.8740\n",
            "Epoch 7/20\n",
            "30/30 [==============================] - 1s 35ms/step - loss: 0.0662 - binary_accuracy: 0.9810 - val_loss: 0.3958 - val_binary_accuracy: 0.8717\n",
            "Epoch 8/20\n",
            "30/30 [==============================] - 1s 36ms/step - loss: 0.0453 - binary_accuracy: 0.9878 - val_loss: 0.4155 - val_binary_accuracy: 0.8753\n",
            "Epoch 9/20\n",
            "30/30 [==============================] - 1s 36ms/step - loss: 0.0378 - binary_accuracy: 0.9901 - val_loss: 0.4604 - val_binary_accuracy: 0.8718\n",
            "Epoch 10/20\n",
            "30/30 [==============================] - 1s 35ms/step - loss: 0.0290 - binary_accuracy: 0.9924 - val_loss: 0.5057 - val_binary_accuracy: 0.8696\n",
            "Epoch 11/20\n",
            "30/30 [==============================] - 1s 35ms/step - loss: 0.0160 - binary_accuracy: 0.9964 - val_loss: 0.5539 - val_binary_accuracy: 0.8688\n",
            "Epoch 12/20\n",
            "30/30 [==============================] - 1s 36ms/step - loss: 0.0139 - binary_accuracy: 0.9978 - val_loss: 0.6033 - val_binary_accuracy: 0.8660\n",
            "Epoch 13/20\n",
            "30/30 [==============================] - 1s 35ms/step - loss: 0.0143 - binary_accuracy: 0.9968 - val_loss: 0.6301 - val_binary_accuracy: 0.8661\n",
            "Epoch 14/20\n",
            "30/30 [==============================] - 1s 35ms/step - loss: 0.0053 - binary_accuracy: 0.9995 - val_loss: 0.6630 - val_binary_accuracy: 0.8649\n",
            "Epoch 15/20\n",
            "30/30 [==============================] - 1s 36ms/step - loss: 0.0046 - binary_accuracy: 0.9994 - val_loss: 0.7087 - val_binary_accuracy: 0.8675\n",
            "Epoch 16/20\n",
            "30/30 [==============================] - 1s 36ms/step - loss: 0.0025 - binary_accuracy: 0.9997 - val_loss: 0.7238 - val_binary_accuracy: 0.8664\n",
            "Epoch 17/20\n",
            "30/30 [==============================] - 1s 36ms/step - loss: 0.0069 - binary_accuracy: 0.9987 - val_loss: 0.7534 - val_binary_accuracy: 0.8637\n",
            "Epoch 18/20\n",
            "30/30 [==============================] - 1s 35ms/step - loss: 0.0013 - binary_accuracy: 1.0000 - val_loss: 0.7621 - val_binary_accuracy: 0.8642\n",
            "Epoch 19/20\n",
            "30/30 [==============================] - 1s 35ms/step - loss: 0.0016 - binary_accuracy: 0.9999 - val_loss: 0.7872 - val_binary_accuracy: 0.8629\n",
            "Epoch 20/20\n",
            "30/30 [==============================] - 1s 36ms/step - loss: 0.0057 - binary_accuracy: 0.9986 - val_loss: 0.8170 - val_binary_accuracy: 0.8621\n",
            "Epoch 1/4\n",
            "49/49 [==============================] - 2s 28ms/step - loss: 0.5094 - accuracy: 0.7619\n",
            "Epoch 2/4\n",
            "49/49 [==============================] - 1s 28ms/step - loss: 0.2374 - accuracy: 0.9142\n",
            "Epoch 3/4\n",
            "49/49 [==============================] - 1s 28ms/step - loss: 0.1691 - accuracy: 0.9403\n",
            "Epoch 4/4\n",
            "49/49 [==============================] - 1s 27ms/step - loss: 0.1431 - accuracy: 0.9478\n",
            "782/782 [==============================] - 1s 2ms/step - loss: 0.4177 - accuracy: 0.8479\n"
          ],
          "name": "stdout"
        },
        {
          "output_type": "execute_result",
          "data": {
            "text/plain": [
              "[0.4177379608154297, 0.8479200005531311]"
            ]
          },
          "metadata": {
            "tags": []
          },
          "execution_count": 17
        }
      ]
    },
    {
      "cell_type": "markdown",
      "metadata": {
        "id": "kNPK5UqLV0la"
      },
      "source": [
        "Discussion: Using tanh activation led to a lower accuracy of 84.8%"
      ]
    },
    {
      "cell_type": "markdown",
      "metadata": {
        "id": "MODrm1dKpIhb"
      },
      "source": [
        "5 a) Change: Regularization"
      ]
    },
    {
      "cell_type": "code",
      "metadata": {
        "colab": {
          "base_uri": "https://localhost:8080/"
        },
        "id": "fG8WfeNJpTGY",
        "outputId": "724975aa-46e3-4bab-e8c9-1da2321db7f7"
      },
      "source": [
        "from keras import regularizers\r\n",
        "\r\n",
        "model = models.Sequential()\r\n",
        "model.add(layers.Dense(16, kernel_regularizer=regularizers.l2(0.001), activation='relu', input_shape=(10000,)))\r\n",
        "model.add(layers.Dense(16, kernel_regularizer=regularizers.l2(0.001), activation='relu'))\r\n",
        "model.add(layers.Dense(1, activation='sigmoid'))\r\n",
        "\r\n",
        "\r\n",
        "model.compile(optimizer='rmsprop',\r\n",
        "              loss='binary_crossentropy',\r\n",
        "              metrics=['accuracy'])\r\n",
        "\r\n",
        "\r\n",
        "model.compile(optimizer=optimizers.RMSprop(lr=0.001),\r\n",
        "              loss='binary_crossentropy',\r\n",
        "              metrics=['accuracy'])\r\n",
        "\r\n",
        "\r\n",
        "model.compile(optimizer=optimizers.RMSprop(lr=0.001),\r\n",
        "              loss=losses.binary_crossentropy,\r\n",
        "              metrics=[metrics.binary_accuracy])\r\n",
        "\r\n",
        "\r\n",
        "x_val = x_train[:10000]\r\n",
        "partial_x_train = x_train[10000:]\r\n",
        "\r\n",
        "y_val = y_train[:10000]\r\n",
        "partial_y_train = y_train[10000:]\r\n",
        "\r\n",
        "\r\n",
        "history = model.fit(partial_x_train,\r\n",
        "                    partial_y_train,\r\n",
        "                    epochs=20,\r\n",
        "                    batch_size=512,\r\n",
        "                    validation_data=(x_val, y_val))\r\n",
        "\r\n",
        "history_dict = history.history\r\n",
        "history_dict.keys()\r\n",
        "\r\n",
        "\r\n",
        "model = models.Sequential()\r\n",
        "model.add(layers.Dense(16, activation='relu', input_shape=(10000,)))\r\n",
        "model.add(layers.Dense(16, activation='relu'))\r\n",
        "model.add(layers.Dense(1, activation='sigmoid'))\r\n",
        "\r\n",
        "model.compile(optimizer='rmsprop',\r\n",
        "              loss='binary_crossentropy',\r\n",
        "              metrics=['accuracy'])\r\n",
        "\r\n",
        "model.fit(x_train, y_train, epochs=4, batch_size=512)\r\n",
        "results = model.evaluate(x_test, y_test)\r\n",
        "\r\n",
        "\r\n",
        "results"
      ],
      "execution_count": 18,
      "outputs": [
        {
          "output_type": "stream",
          "text": [
            "Epoch 1/20\n",
            "30/30 [==============================] - 2s 46ms/step - loss: 0.6339 - binary_accuracy: 0.6994 - val_loss: 0.4445 - val_binary_accuracy: 0.8592\n",
            "Epoch 2/20\n",
            "30/30 [==============================] - 1s 36ms/step - loss: 0.3828 - binary_accuracy: 0.8994 - val_loss: 0.3641 - val_binary_accuracy: 0.8824\n",
            "Epoch 3/20\n",
            "30/30 [==============================] - 1s 35ms/step - loss: 0.2934 - binary_accuracy: 0.9233 - val_loss: 0.3330 - val_binary_accuracy: 0.8906\n",
            "Epoch 4/20\n",
            "30/30 [==============================] - 1s 36ms/step - loss: 0.2503 - binary_accuracy: 0.9380 - val_loss: 0.3375 - val_binary_accuracy: 0.8851\n",
            "Epoch 5/20\n",
            "30/30 [==============================] - 1s 36ms/step - loss: 0.2306 - binary_accuracy: 0.9437 - val_loss: 0.3326 - val_binary_accuracy: 0.8869\n",
            "Epoch 6/20\n",
            "30/30 [==============================] - 1s 49ms/step - loss: 0.2101 - binary_accuracy: 0.9524 - val_loss: 0.3379 - val_binary_accuracy: 0.8850\n",
            "Epoch 7/20\n",
            "30/30 [==============================] - 1s 47ms/step - loss: 0.1990 - binary_accuracy: 0.9556 - val_loss: 0.3417 - val_binary_accuracy: 0.8818\n",
            "Epoch 8/20\n",
            "30/30 [==============================] - 1s 37ms/step - loss: 0.1849 - binary_accuracy: 0.9619 - val_loss: 0.3547 - val_binary_accuracy: 0.8784\n",
            "Epoch 9/20\n",
            "30/30 [==============================] - 1s 37ms/step - loss: 0.1824 - binary_accuracy: 0.9621 - val_loss: 0.3704 - val_binary_accuracy: 0.8751\n",
            "Epoch 10/20\n",
            "30/30 [==============================] - 1s 37ms/step - loss: 0.1732 - binary_accuracy: 0.9655 - val_loss: 0.4032 - val_binary_accuracy: 0.8714\n",
            "Epoch 11/20\n",
            "30/30 [==============================] - 1s 37ms/step - loss: 0.1692 - binary_accuracy: 0.9692 - val_loss: 0.3703 - val_binary_accuracy: 0.8806\n",
            "Epoch 12/20\n",
            "30/30 [==============================] - 1s 37ms/step - loss: 0.1622 - binary_accuracy: 0.9691 - val_loss: 0.3885 - val_binary_accuracy: 0.8777\n",
            "Epoch 13/20\n",
            "30/30 [==============================] - 1s 37ms/step - loss: 0.1602 - binary_accuracy: 0.9700 - val_loss: 0.3850 - val_binary_accuracy: 0.8777\n",
            "Epoch 14/20\n",
            "30/30 [==============================] - 1s 37ms/step - loss: 0.1525 - binary_accuracy: 0.9749 - val_loss: 0.4060 - val_binary_accuracy: 0.8707\n",
            "Epoch 15/20\n",
            "30/30 [==============================] - 1s 37ms/step - loss: 0.1475 - binary_accuracy: 0.9783 - val_loss: 0.3988 - val_binary_accuracy: 0.8766\n",
            "Epoch 16/20\n",
            "30/30 [==============================] - 1s 37ms/step - loss: 0.1427 - binary_accuracy: 0.9798 - val_loss: 0.4220 - val_binary_accuracy: 0.8680\n",
            "Epoch 17/20\n",
            "30/30 [==============================] - 1s 36ms/step - loss: 0.1418 - binary_accuracy: 0.9783 - val_loss: 0.4234 - val_binary_accuracy: 0.8684\n",
            "Epoch 18/20\n",
            "30/30 [==============================] - 1s 37ms/step - loss: 0.1401 - binary_accuracy: 0.9796 - val_loss: 0.4217 - val_binary_accuracy: 0.8759\n",
            "Epoch 19/20\n",
            "30/30 [==============================] - 1s 37ms/step - loss: 0.1425 - binary_accuracy: 0.9765 - val_loss: 0.4628 - val_binary_accuracy: 0.8624\n",
            "Epoch 20/20\n",
            "30/30 [==============================] - 1s 37ms/step - loss: 0.1407 - binary_accuracy: 0.9755 - val_loss: 0.4372 - val_binary_accuracy: 0.8720\n",
            "Epoch 1/4\n",
            "49/49 [==============================] - 2s 28ms/step - loss: 0.5523 - accuracy: 0.7538\n",
            "Epoch 2/4\n",
            "49/49 [==============================] - 1s 28ms/step - loss: 0.2910 - accuracy: 0.9048\n",
            "Epoch 3/4\n",
            "49/49 [==============================] - 1s 28ms/step - loss: 0.2079 - accuracy: 0.9284\n",
            "Epoch 4/4\n",
            "49/49 [==============================] - 1s 28ms/step - loss: 0.1707 - accuracy: 0.9418\n",
            "782/782 [==============================] - 1s 2ms/step - loss: 0.2892 - accuracy: 0.8852\n"
          ],
          "name": "stdout"
        },
        {
          "output_type": "execute_result",
          "data": {
            "text/plain": [
              "[0.2891996204853058, 0.8852400183677673]"
            ]
          },
          "metadata": {
            "tags": []
          },
          "execution_count": 18
        }
      ]
    },
    {
      "cell_type": "markdown",
      "metadata": {
        "id": "qVd986VgpTrd"
      },
      "source": [
        "Discussion: Using regularization was able to achieve a slightly better accuracy of 88.5%"
      ]
    },
    {
      "cell_type": "markdown",
      "metadata": {
        "id": "zOY3RoXzV3Mn"
      },
      "source": [
        "5 b) Change: Adding Dropout"
      ]
    },
    {
      "cell_type": "code",
      "metadata": {
        "id": "lpDTuQ3ZV6Xz",
        "colab": {
          "base_uri": "https://localhost:8080/"
        },
        "outputId": "a64fe306-cacf-42e9-b489-da4f169a5b6c"
      },
      "source": [
        "model = models.Sequential()\r\n",
        "model.add(layers.Dense(16, activation='relu', input_shape=(10000,)))\r\n",
        "model.add(layers.Dropout(0.5))\r\n",
        "model.add(layers.Dense(16, activation='relu'))\r\n",
        "model.add(layers.Dropout(0.5))\r\n",
        "model.add(layers.Dense(1, activation='sigmoid'))\r\n",
        "\r\n",
        "\r\n",
        "model.compile(optimizer='rmsprop',\r\n",
        "              loss='binary_crossentropy',\r\n",
        "              metrics=['accuracy'])\r\n",
        "\r\n",
        "\r\n",
        "model.compile(optimizer=optimizers.RMSprop(lr=0.001),\r\n",
        "              loss='binary_crossentropy',\r\n",
        "              metrics=['accuracy'])\r\n",
        "\r\n",
        "\r\n",
        "model.compile(optimizer=optimizers.RMSprop(lr=0.001),\r\n",
        "              loss=losses.binary_crossentropy,\r\n",
        "              metrics=[metrics.binary_accuracy])\r\n",
        "\r\n",
        "\r\n",
        "x_val = x_train[:10000]\r\n",
        "partial_x_train = x_train[10000:]\r\n",
        "\r\n",
        "y_val = y_train[:10000]\r\n",
        "partial_y_train = y_train[10000:]\r\n",
        "\r\n",
        "\r\n",
        "history = model.fit(partial_x_train,\r\n",
        "                    partial_y_train,\r\n",
        "                    epochs=20,\r\n",
        "                    batch_size=512,\r\n",
        "                    validation_data=(x_val, y_val))\r\n",
        "\r\n",
        "history_dict = history.history\r\n",
        "history_dict.keys()\r\n",
        "\r\n",
        "\r\n",
        "model = models.Sequential()\r\n",
        "model.add(layers.Dense(16, activation='relu', input_shape=(10000,)))\r\n",
        "model.add(layers.Dropout(0.5))\r\n",
        "model.add(layers.Dense(16, activation='relu'))\r\n",
        "model.add(layers.Dropout(0.5))\r\n",
        "model.add(layers.Dense(1, activation='sigmoid'))\r\n",
        "\r\n",
        "model.compile(optimizer='rmsprop',\r\n",
        "              loss='binary_crossentropy',\r\n",
        "              metrics=['accuracy'])\r\n",
        "\r\n",
        "model.fit(x_train, y_train, epochs=4, batch_size=512)\r\n",
        "results = model.evaluate(x_test, y_test)\r\n",
        "\r\n",
        "\r\n",
        "results"
      ],
      "execution_count": 19,
      "outputs": [
        {
          "output_type": "stream",
          "text": [
            "Epoch 1/20\n",
            "30/30 [==============================] - 2s 45ms/step - loss: 0.6374 - binary_accuracy: 0.6220 - val_loss: 0.4610 - val_binary_accuracy: 0.8497\n",
            "Epoch 2/20\n",
            "30/30 [==============================] - 1s 36ms/step - loss: 0.4707 - binary_accuracy: 0.8022 - val_loss: 0.3745 - val_binary_accuracy: 0.8590\n",
            "Epoch 3/20\n",
            "30/30 [==============================] - 1s 36ms/step - loss: 0.3934 - binary_accuracy: 0.8502 - val_loss: 0.3108 - val_binary_accuracy: 0.8835\n",
            "Epoch 4/20\n",
            "30/30 [==============================] - 1s 36ms/step - loss: 0.3355 - binary_accuracy: 0.8775 - val_loss: 0.2839 - val_binary_accuracy: 0.8914\n",
            "Epoch 5/20\n",
            "30/30 [==============================] - 1s 36ms/step - loss: 0.2886 - binary_accuracy: 0.8951 - val_loss: 0.2729 - val_binary_accuracy: 0.8928\n",
            "Epoch 6/20\n",
            "30/30 [==============================] - 1s 36ms/step - loss: 0.2465 - binary_accuracy: 0.9210 - val_loss: 0.2772 - val_binary_accuracy: 0.8906\n",
            "Epoch 7/20\n",
            "30/30 [==============================] - 1s 36ms/step - loss: 0.2155 - binary_accuracy: 0.9277 - val_loss: 0.2790 - val_binary_accuracy: 0.8921\n",
            "Epoch 8/20\n",
            "30/30 [==============================] - 1s 36ms/step - loss: 0.1965 - binary_accuracy: 0.9366 - val_loss: 0.3017 - val_binary_accuracy: 0.8806\n",
            "Epoch 9/20\n",
            "30/30 [==============================] - 1s 36ms/step - loss: 0.1789 - binary_accuracy: 0.9438 - val_loss: 0.3154 - val_binary_accuracy: 0.8864\n",
            "Epoch 10/20\n",
            "30/30 [==============================] - 1s 36ms/step - loss: 0.1478 - binary_accuracy: 0.9536 - val_loss: 0.3341 - val_binary_accuracy: 0.8896\n",
            "Epoch 11/20\n",
            "30/30 [==============================] - 1s 36ms/step - loss: 0.1359 - binary_accuracy: 0.9564 - val_loss: 0.3422 - val_binary_accuracy: 0.8870\n",
            "Epoch 12/20\n",
            "30/30 [==============================] - 1s 35ms/step - loss: 0.1229 - binary_accuracy: 0.9574 - val_loss: 0.3785 - val_binary_accuracy: 0.8794\n",
            "Epoch 13/20\n",
            "30/30 [==============================] - 1s 36ms/step - loss: 0.1125 - binary_accuracy: 0.9641 - val_loss: 0.3911 - val_binary_accuracy: 0.8841\n",
            "Epoch 14/20\n",
            "30/30 [==============================] - 1s 36ms/step - loss: 0.0997 - binary_accuracy: 0.9681 - val_loss: 0.4304 - val_binary_accuracy: 0.8859\n",
            "Epoch 15/20\n",
            "30/30 [==============================] - 1s 36ms/step - loss: 0.0947 - binary_accuracy: 0.9686 - val_loss: 0.4328 - val_binary_accuracy: 0.8795\n",
            "Epoch 16/20\n",
            "30/30 [==============================] - 1s 36ms/step - loss: 0.0894 - binary_accuracy: 0.9709 - val_loss: 0.4803 - val_binary_accuracy: 0.8844\n",
            "Epoch 17/20\n",
            "30/30 [==============================] - 1s 36ms/step - loss: 0.0840 - binary_accuracy: 0.9742 - val_loss: 0.4937 - val_binary_accuracy: 0.8823\n",
            "Epoch 18/20\n",
            "30/30 [==============================] - 1s 36ms/step - loss: 0.0773 - binary_accuracy: 0.9759 - val_loss: 0.5299 - val_binary_accuracy: 0.8851\n",
            "Epoch 19/20\n",
            "30/30 [==============================] - 1s 36ms/step - loss: 0.0746 - binary_accuracy: 0.9746 - val_loss: 0.5734 - val_binary_accuracy: 0.8856\n",
            "Epoch 20/20\n",
            "30/30 [==============================] - 1s 36ms/step - loss: 0.0611 - binary_accuracy: 0.9795 - val_loss: 0.5878 - val_binary_accuracy: 0.8770\n",
            "Epoch 1/4\n",
            "49/49 [==============================] - 2s 27ms/step - loss: 0.6460 - accuracy: 0.6067\n",
            "Epoch 2/4\n",
            "49/49 [==============================] - 1s 28ms/step - loss: 0.4636 - accuracy: 0.8037\n",
            "Epoch 3/4\n",
            "49/49 [==============================] - 1s 28ms/step - loss: 0.3643 - accuracy: 0.8635\n",
            "Epoch 4/4\n",
            "49/49 [==============================] - 1s 28ms/step - loss: 0.3059 - accuracy: 0.8924\n",
            "782/782 [==============================] - 1s 2ms/step - loss: 0.2764 - accuracy: 0.8891\n"
          ],
          "name": "stdout"
        },
        {
          "output_type": "execute_result",
          "data": {
            "text/plain": [
              "[0.276427686214447, 0.8890799880027771]"
            ]
          },
          "metadata": {
            "tags": []
          },
          "execution_count": 19
        }
      ]
    },
    {
      "cell_type": "markdown",
      "metadata": {
        "id": "Y6eAXmV8V65I"
      },
      "source": [
        "Discussion: Dropout too was able to increase the level of accuracy, this time to 88.9%"
      ]
    },
    {
      "cell_type": "markdown",
      "metadata": {
        "id": "E3xZMXDM5fW0"
      },
      "source": [
        "Overview of results:\r\n",
        "\r\n",
        "![picture](https://drive.google.com//uc?export=view&id=1xr5cqyBqLQ_zzw1h0hc-5KcRPvvd4vC6)"
      ]
    }
  ]
}